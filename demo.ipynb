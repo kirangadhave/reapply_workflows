{
 "cells": [
  {
   "cell_type": "code",
   "execution_count": null,
   "metadata": {},
   "outputs": [],
   "source": [
    "import numpy as np\n",
    "import pandas as pd\n",
    "from backend.inference_core.reapply.reapply import Reapply"
   ]
  },
  {
   "cell_type": "code",
   "execution_count": null,
   "metadata": {},
   "outputs": [
    {
     "data": {
      "text/plain": "(200, 5)"
     },
     "execution_count": 20,
     "metadata": {},
     "output_type": "execute_result"
    }
   ],
   "source": [
    "target = pd.read_csv(\"./datasets/Cluster/cluster.csv\")\n",
    "target.shape"
   ]
  },
  {
   "cell_type": "code",
   "execution_count": null,
   "metadata": {},
   "outputs": [],
   "source": [
    "r = Reapply()\n",
    "workflow = r.add_workflow(\"workflow1616539994342\")\n"
   ]
  },
  {
   "cell_type": "code",
   "execution_count": null,
   "metadata": {},
   "outputs": [
    {
     "name": "stdout",
     "output_type": "stream",
     "text": [
      "| Root\n",
      " +--| Add Plot\n",
      "     +--| Added brush to: CS-Math\n",
      "         +--| Cluster Selection\n",
      "             +--| Filter: Out\n"
     ]
    }
   ],
   "source": [
    "results = workflow.apply(target, \"Label\")"
   ]
  },
  {
   "cell_type": "code",
   "execution_count": null,
   "metadata": {},
   "outputs": [
    {
     "name": "stdout",
     "output_type": "stream",
     "text": [
      "Add Plot (200, 5) --- Approved\n",
      "         CS  Label      Math   Physics      Profession\n",
      "0  8.583305      0  5.551572  3.480821  Data Scientist\n",
      "1  8.758750      1  6.210208  4.135153  Data Scientist\n",
      "2  6.677876      2  7.366081  3.012717  Data Scientist\n",
      "3  3.238692      3  6.096935  7.093811       Physicist\n",
      "4  4.048465      4  8.268310  1.259467  Data Scientist\n",
      "------------------------------------\n",
      "\n",
      "Added brush to: CS-Math (200, 6) --- Approved\n",
      "         CS Label      Math   Physics      Profession  isSelected\n",
      "0  8.583305     0  5.551572  3.480821  Data Scientist       False\n",
      "1   8.75875     1  6.210208  4.135153  Data Scientist       False\n",
      "2  6.677876     2  7.366081  3.012717  Data Scientist       False\n",
      "3      True  True      True      True            True        True\n",
      "4  4.048465     4   8.26831  1.259467  Data Scientist       False\n",
      "------------------------------------\n",
      "\n",
      "Cluster Selection (200, 6) --- Approved\n",
      "         CS Label      Math   Physics      Profession  isSelected\n",
      "0  8.583305     0  5.551572  3.480821  Data Scientist       False\n",
      "1   8.75875     1  6.210208  4.135153  Data Scientist       False\n",
      "2  6.677876     2  7.366081  3.012717  Data Scientist       False\n",
      "3      True  True      True      True            True        True\n",
      "4      True  True      True      True            True        True\n",
      "------------------------------------\n",
      "\n",
      "Filter: Out (146, 5) --- Approved\n",
      "         CS  Label      Math   Physics      Profession\n",
      "0  8.583305      0  5.551572  3.480821  Data Scientist\n",
      "1  8.758750      1  6.210208  4.135153  Data Scientist\n",
      "2  6.677876      2  7.366081  3.012717  Data Scientist\n",
      "5  8.949269      5  7.654252  4.597205  Data Scientist\n",
      "6  7.747416      6  5.159624  2.811490  Data Scientist\n",
      "------------------------------------\n",
      "\n"
     ]
    }
   ],
   "source": [
    "results.pretty_print()"
   ]
  },
  {
   "cell_type": "code",
   "execution_count": null,
   "metadata": {},
   "outputs": [
    {
     "data": {
      "text/plain": "[{'data':            CS  Label      Math   Physics      Profession\n  0    8.583305      0  5.551572  3.480821  Data Scientist\n  1    8.758750      1  6.210208  4.135153  Data Scientist\n  2    6.677876      2  7.366081  3.012717  Data Scientist\n  3    3.238692      3  6.096935  7.093811       Physicist\n  4    4.048465      4  8.268310  1.259467  Data Scientist\n  ..        ...    ...       ...       ...             ...\n  195  7.302438    195  2.924733  6.876048      Astronomer\n  196  6.139013    196  7.640470  2.600464  Data Scientist\n  197  8.723875    197  6.222420  3.773165  Data Scientist\n  198  2.391925    198  7.168744  7.316852       Physicist\n  199  7.924237    199  4.525694  2.501482  Data Scientist\n  \n  [200 rows x 5 columns],\n  'interaction': 'Add Plot',\n  'isApproved': True},\n {'data':            CS Label      Math   Physics      Profession  isSelected\n  0    8.583305     0  5.551572  3.480821  Data Scientist       False\n  1     8.75875     1  6.210208  4.135153  Data Scientist       False\n  2    6.677876     2  7.366081  3.012717  Data Scientist       False\n  3        True  True      True      True            True        True\n  4    4.048465     4   8.26831  1.259467  Data Scientist       False\n  ..        ...   ...       ...       ...             ...         ...\n  195  7.302438   195  2.924733  6.876048      Astronomer       False\n  196  6.139013   196   7.64047  2.600464  Data Scientist       False\n  197  8.723875   197   6.22242  3.773165  Data Scientist       False\n  198      True  True      True      True            True        True\n  199  7.924237   199  4.525694  2.501482  Data Scientist       False\n  \n  [200 rows x 6 columns],\n  'interaction': 'Added brush to: CS-Math',\n  'isApproved': True},\n {'data':            CS Label      Math   Physics      Profession  isSelected\n  0    8.583305     0  5.551572  3.480821  Data Scientist       False\n  1     8.75875     1  6.210208  4.135153  Data Scientist       False\n  2    6.677876     2  7.366081  3.012717  Data Scientist       False\n  3        True  True      True      True            True        True\n  4        True  True      True      True            True        True\n  ..        ...   ...       ...       ...             ...         ...\n  195  7.302438   195  2.924733  6.876048      Astronomer       False\n  196  6.139013   196   7.64047  2.600464  Data Scientist       False\n  197  8.723875   197   6.22242  3.773165  Data Scientist       False\n  198      True  True      True      True            True        True\n  199  7.924237   199  4.525694  2.501482  Data Scientist       False\n  \n  [200 rows x 6 columns],\n  'interaction': 'Cluster Selection',\n  'isApproved': True},\n {'data':            CS  Label      Math   Physics      Profession\n  0    8.583305      0  5.551572  3.480821  Data Scientist\n  1    8.758750      1  6.210208  4.135153  Data Scientist\n  2    6.677876      2  7.366081  3.012717  Data Scientist\n  5    8.949269      5  7.654252  4.597205  Data Scientist\n  6    7.747416      6  5.159624  2.811490  Data Scientist\n  ..        ...    ...       ...       ...             ...\n  194  7.223979    194  1.888222  5.854263      Astronomer\n  195  7.302438    195  2.924733  6.876048      Astronomer\n  196  6.139013    196  7.640470  2.600464  Data Scientist\n  197  8.723875    197  6.222420  3.773165  Data Scientist\n  199  7.924237    199  4.525694  2.501482  Data Scientist\n  \n  [146 rows x 5 columns],\n  'interaction': 'Filter: Out',\n  'isApproved': True}]"
     },
     "execution_count": 24,
     "metadata": {},
     "output_type": "execute_result"
    }
   ],
   "source": [
    "results.results"
   ]
  },
  {
   "cell_type": "code",
   "execution_count": null,
   "metadata": {},
   "outputs": [],
   "source": []
  },
  {
   "cell_type": "code",
   "execution_count": null,
   "metadata": {},
   "outputs": [],
   "source": []
  }
 ],
 "metadata": {
  "kernelspec": {
   "display_name": "Python 3.8.3 64-bit",
   "name": "python383jvsc74a57bd0bed9a561fb83291a278b30e3f88fdd47e5ca4c4a3db87eebfaf40c1dec639dff"
  },
  "language_info": {
   "name": "python",
   "version": ""
  },
  "metadata": {
   "interpreter": {
    "hash": "bed9a561fb83291a278b30e3f88fdd47e5ca4c4a3db87eebfaf40c1dec639dff"
   }
  },
  "orig_nbformat": 2
 },
 "nbformat": 4,
 "nbformat_minor": 2
}