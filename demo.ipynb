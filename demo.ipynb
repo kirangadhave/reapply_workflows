{
 "cells": [
  {
   "cell_type": "code",
   "execution_count": null,
   "metadata": {},
   "outputs": [],
   "source": []
  }
 ],
 "metadata": {
  "kernelspec": {
   "display_name": "Python 3.8.3 64-bit ('reusing-intent-s79142EQ-py3.8')",
   "metadata": {
    "interpreter": {
     "hash": "bed9a561fb83291a278b30e3f88fdd47e5ca4c4a3db87eebfaf40c1dec639dff"
    }
   },
   "name": "python3"
  },
  "language_info": {
   "name": "python",
   "nbconvert_exporter": "python",
   "version": "3.8.3-final"
  },
  "orig_nbformat": 2
 },
 "nbformat": 4,
 "nbformat_minor": 2
}