{
 "cells": [
  {
   "cell_type": "code",
   "execution_count": 1,
   "metadata": {},
   "outputs": [],
   "source": [
    "import numpy as np\n",
    "import pandas as pd\n",
    "from backend.inference_core.reapply.reapply import Reapply"
   ]
  },
  {
   "cell_type": "code",
   "execution_count": 5,
   "metadata": {},
   "outputs": [
    {
     "data": {
      "text/plain": "(204, 3)"
     },
     "execution_count": 5,
     "metadata": {},
     "output_type": "execute_result"
    }
   ],
   "source": [
    "target = pd.read_csv(\"./datasets/Linear Regression/linear_regression.csv\")\n",
    "target.shape"
   ]
  },
  {
   "cell_type": "code",
   "execution_count": 6,
   "metadata": {},
   "outputs": [],
   "source": [
    "r = Reapply()\n",
    "workflow = r.add_workflow(\"workflow1616110950186\")\n"
   ]
  },
  {
   "cell_type": "code",
   "execution_count": 7,
   "metadata": {},
   "outputs": [
    {
     "data": {
      "text/html": "<div>\n<style scoped>\n    .dataframe tbody tr th:only-of-type {\n        vertical-align: middle;\n    }\n\n    .dataframe tbody tr th {\n        vertical-align: top;\n    }\n\n    .dataframe thead th {\n        text-align: right;\n    }\n</style>\n<table border=\"1\" class=\"dataframe\">\n  <thead>\n    <tr style=\"text-align: right;\">\n      <th></th>\n      <th>id</th>\n      <th>Label</th>\n      <th>X</th>\n      <th>Y</th>\n    </tr>\n  </thead>\n  <tbody>\n    <tr>\n      <th>0</th>\n      <td>e4c2e8edac362acab7123654b9e73432</td>\n      <td>1</td>\n      <td>2.184709</td>\n      <td>321.083006</td>\n    </tr>\n    <tr>\n      <th>3</th>\n      <td>07078a97d66756f213dbca3e379bf084</td>\n      <td>4</td>\n      <td>5.413144</td>\n      <td>131.256759</td>\n    </tr>\n    <tr>\n      <th>17</th>\n      <td>125dcaf4533b218d3c5dfe19e4aa8a35</td>\n      <td>18</td>\n      <td>3.176161</td>\n      <td>221.219571</td>\n    </tr>\n    <tr>\n      <th>18</th>\n      <td>1167923154de4dc45df2119c4dfb16d1</td>\n      <td>19</td>\n      <td>3.379694</td>\n      <td>308.566830</td>\n    </tr>\n    <tr>\n      <th>29</th>\n      <td>5ba1de412e01037f8843d097dcfaf28a</td>\n      <td>30</td>\n      <td>5.015478</td>\n      <td>154.788941</td>\n    </tr>\n    <tr>\n      <th>30</th>\n      <td>7c9d5fbcdc5ae18a05e0b792cfccafbf</td>\n      <td>31</td>\n      <td>5.392695</td>\n      <td>34.639618</td>\n    </tr>\n    <tr>\n      <th>31</th>\n      <td>96a64b03f04a3b74898ec8ed78322795</td>\n      <td>32</td>\n      <td>3.186364</td>\n      <td>282.854539</td>\n    </tr>\n    <tr>\n      <th>34</th>\n      <td>e2e536cebe0aee01493dbece3a42cf40</td>\n      <td>35</td>\n      <td>4.356568</td>\n      <td>282.678992</td>\n    </tr>\n    <tr>\n      <th>35</th>\n      <td>b7b7f1f20b3a7bc8e85fb2c68abe65e8</td>\n      <td>36</td>\n      <td>3.099787</td>\n      <td>218.995278</td>\n    </tr>\n    <tr>\n      <th>37</th>\n      <td>140c93142d2695247f269ee4af3001b0</td>\n      <td>38</td>\n      <td>0.989056</td>\n      <td>397.523740</td>\n    </tr>\n    <tr>\n      <th>39</th>\n      <td>40e5fa722621b4033c15162806b7ea2b</td>\n      <td>40</td>\n      <td>3.945685</td>\n      <td>255.527167</td>\n    </tr>\n    <tr>\n      <th>48</th>\n      <td>e4878bf957c08a7ceaa9da9677015254</td>\n      <td>55</td>\n      <td>5.474292</td>\n      <td>3.848829</td>\n    </tr>\n    <tr>\n      <th>55</th>\n      <td>73aa23ef8363441b157cde7d6cd0f634</td>\n      <td>62</td>\n      <td>1.985584</td>\n      <td>393.915565</td>\n    </tr>\n    <tr>\n      <th>57</th>\n      <td>15dfeaed9b9157eee521df71b3cf4ef0</td>\n      <td>64</td>\n      <td>4.419953</td>\n      <td>212.720030</td>\n    </tr>\n    <tr>\n      <th>62</th>\n      <td>6f34e74684cb3a27eeb9fc6c62c1d07c</td>\n      <td>69</td>\n      <td>3.179789</td>\n      <td>325.206047</td>\n    </tr>\n    <tr>\n      <th>81</th>\n      <td>4a0de962414199fbda294c3b4949cdc6</td>\n      <td>88</td>\n      <td>4.626130</td>\n      <td>187.718695</td>\n    </tr>\n    <tr>\n      <th>86</th>\n      <td>bedb2827cbd8fe748cd492d3c1d071ae</td>\n      <td>93</td>\n      <td>3.151019</td>\n      <td>219.043157</td>\n    </tr>\n    <tr>\n      <th>93</th>\n      <td>62dca49f0781bf26b4305bddb0414bea</td>\n      <td>100</td>\n      <td>4.931869</td>\n      <td>50.914473</td>\n    </tr>\n    <tr>\n      <th>94</th>\n      <td>c8ae311bd8be81d964e74836de6aaf81</td>\n      <td>101</td>\n      <td>2.932237</td>\n      <td>359.801851</td>\n    </tr>\n    <tr>\n      <th>100</th>\n      <td>01356fccd947265bc17da7838f931a43</td>\n      <td>107</td>\n      <td>5.729780</td>\n      <td>12.604711</td>\n    </tr>\n    <tr>\n      <th>101</th>\n      <td>2553d1ec5d87cb39b165046549f30760</td>\n      <td>108</td>\n      <td>5.374001</td>\n      <td>145.169010</td>\n    </tr>\n    <tr>\n      <th>110</th>\n      <td>b8da6848e2ca0f7c43609a318a4dbfb3</td>\n      <td>117</td>\n      <td>2.807595</td>\n      <td>353.602360</td>\n    </tr>\n    <tr>\n      <th>115</th>\n      <td>a4a00ef3c8b8b485cf5bd81b4503016e</td>\n      <td>122</td>\n      <td>3.920395</td>\n      <td>105.390257</td>\n    </tr>\n    <tr>\n      <th>124</th>\n      <td>163e068b1b92951d6e013436d9f1be52</td>\n      <td>131</td>\n      <td>6.169645</td>\n      <td>88.088644</td>\n    </tr>\n    <tr>\n      <th>126</th>\n      <td>c31f785f1cec2f86a8429cb122bf648d</td>\n      <td>133</td>\n      <td>5.304705</td>\n      <td>136.314301</td>\n    </tr>\n    <tr>\n      <th>146</th>\n      <td>8c9963646ab40dae39b61330317ba52e</td>\n      <td>153</td>\n      <td>3.315981</td>\n      <td>317.429202</td>\n    </tr>\n    <tr>\n      <th>147</th>\n      <td>6fb123da2c9555c443554e2de76aea95</td>\n      <td>154</td>\n      <td>4.110257</td>\n      <td>230.762040</td>\n    </tr>\n    <tr>\n      <th>150</th>\n      <td>3e2220c3196b7bb28c73510045e8cd4c</td>\n      <td>157</td>\n      <td>4.418502</td>\n      <td>219.948155</td>\n    </tr>\n    <tr>\n      <th>152</th>\n      <td>b55b426d58515de0a65b2122a67593fd</td>\n      <td>159</td>\n      <td>3.070525</td>\n      <td>222.008370</td>\n    </tr>\n    <tr>\n      <th>162</th>\n      <td>46f0af0cb29ac748355144461ee7a1df</td>\n      <td>169</td>\n      <td>2.051910</td>\n      <td>295.345111</td>\n    </tr>\n    <tr>\n      <th>163</th>\n      <td>a0c4b1cdc3496504a5c6bd1d70a8c092</td>\n      <td>170</td>\n      <td>5.259420</td>\n      <td>161.238829</td>\n    </tr>\n    <tr>\n      <th>164</th>\n      <td>e37de8ebd1114b71d2ecd7a348976c58</td>\n      <td>171</td>\n      <td>5.710443</td>\n      <td>103.116303</td>\n    </tr>\n    <tr>\n      <th>169</th>\n      <td>90d68b2da155e92f562c9cff776f4ef8</td>\n      <td>176</td>\n      <td>4.333461</td>\n      <td>253.973604</td>\n    </tr>\n    <tr>\n      <th>175</th>\n      <td>4bc7804c46e34f9ac4707015336e243a</td>\n      <td>182</td>\n      <td>5.396437</td>\n      <td>148.720395</td>\n    </tr>\n    <tr>\n      <th>181</th>\n      <td>e5eec8bb2aad7597d00e6984029f41bd</td>\n      <td>188</td>\n      <td>3.505304</td>\n      <td>300.394792</td>\n    </tr>\n    <tr>\n      <th>192</th>\n      <td>e6c37f394a810b5a06b736f748be36ee</td>\n      <td>199</td>\n      <td>3.367418</td>\n      <td>286.052677</td>\n    </tr>\n    <tr>\n      <th>193</th>\n      <td>bcddc23e127b38859d98f371d3817273</td>\n      <td>200</td>\n      <td>6.267876</td>\n      <td>0.000000</td>\n    </tr>\n    <tr>\n      <th>194</th>\n      <td>b2b4bac823b9d1fe9e4175f3290355db</td>\n      <td>201</td>\n      <td>1.068780</td>\n      <td>188.202586</td>\n    </tr>\n    <tr>\n      <th>195</th>\n      <td>ea2c004941531f7b272e8ef6c0657a6f</td>\n      <td>202</td>\n      <td>0.893959</td>\n      <td>24.614561</td>\n    </tr>\n    <tr>\n      <th>196</th>\n      <td>8c8516684c9af8b63ffa07c77ce82e74</td>\n      <td>203</td>\n      <td>4.983306</td>\n      <td>357.275378</td>\n    </tr>\n    <tr>\n      <th>197</th>\n      <td>ef29b930e8c1b75a0a6403308d3a596f</td>\n      <td>204</td>\n      <td>2.762850</td>\n      <td>108.228775</td>\n    </tr>\n    <tr>\n      <th>198</th>\n      <td>aba3bc392c775a723e2cede2983ffbc7</td>\n      <td>205</td>\n      <td>6.090296</td>\n      <td>245.275291</td>\n    </tr>\n    <tr>\n      <th>199</th>\n      <td>f07b77796509d801a876fb81998409b3</td>\n      <td>206</td>\n      <td>6.359457</td>\n      <td>379.519839</td>\n    </tr>\n    <tr>\n      <th>200</th>\n      <td>2fca1094fc83a98189cb4f58d0d7e241</td>\n      <td>207</td>\n      <td>2.041856</td>\n      <td>25.297648</td>\n    </tr>\n    <tr>\n      <th>201</th>\n      <td>0d4fa8a2c3dc15316c943f4ffb103c09</td>\n      <td>208</td>\n      <td>0.144952</td>\n      <td>116.269223</td>\n    </tr>\n    <tr>\n      <th>202</th>\n      <td>f07218efd73c8eeefd62707e7fce3cdf</td>\n      <td>209</td>\n      <td>1.412553</td>\n      <td>80.819055</td>\n    </tr>\n    <tr>\n      <th>203</th>\n      <td>bb1196db95c60b1180fcb2d24c8970eb</td>\n      <td>210</td>\n      <td>0.000000</td>\n      <td>219.366772</td>\n    </tr>\n  </tbody>\n</table>\n</div>",
      "text/plain": "                                   id  Label         X           Y\n0    e4c2e8edac362acab7123654b9e73432      1  2.184709  321.083006\n3    07078a97d66756f213dbca3e379bf084      4  5.413144  131.256759\n17   125dcaf4533b218d3c5dfe19e4aa8a35     18  3.176161  221.219571\n18   1167923154de4dc45df2119c4dfb16d1     19  3.379694  308.566830\n29   5ba1de412e01037f8843d097dcfaf28a     30  5.015478  154.788941\n30   7c9d5fbcdc5ae18a05e0b792cfccafbf     31  5.392695   34.639618\n31   96a64b03f04a3b74898ec8ed78322795     32  3.186364  282.854539\n34   e2e536cebe0aee01493dbece3a42cf40     35  4.356568  282.678992\n35   b7b7f1f20b3a7bc8e85fb2c68abe65e8     36  3.099787  218.995278\n37   140c93142d2695247f269ee4af3001b0     38  0.989056  397.523740\n39   40e5fa722621b4033c15162806b7ea2b     40  3.945685  255.527167\n48   e4878bf957c08a7ceaa9da9677015254     55  5.474292    3.848829\n55   73aa23ef8363441b157cde7d6cd0f634     62  1.985584  393.915565\n57   15dfeaed9b9157eee521df71b3cf4ef0     64  4.419953  212.720030\n62   6f34e74684cb3a27eeb9fc6c62c1d07c     69  3.179789  325.206047\n81   4a0de962414199fbda294c3b4949cdc6     88  4.626130  187.718695\n86   bedb2827cbd8fe748cd492d3c1d071ae     93  3.151019  219.043157\n93   62dca49f0781bf26b4305bddb0414bea    100  4.931869   50.914473\n94   c8ae311bd8be81d964e74836de6aaf81    101  2.932237  359.801851\n100  01356fccd947265bc17da7838f931a43    107  5.729780   12.604711\n101  2553d1ec5d87cb39b165046549f30760    108  5.374001  145.169010\n110  b8da6848e2ca0f7c43609a318a4dbfb3    117  2.807595  353.602360\n115  a4a00ef3c8b8b485cf5bd81b4503016e    122  3.920395  105.390257\n124  163e068b1b92951d6e013436d9f1be52    131  6.169645   88.088644\n126  c31f785f1cec2f86a8429cb122bf648d    133  5.304705  136.314301\n146  8c9963646ab40dae39b61330317ba52e    153  3.315981  317.429202\n147  6fb123da2c9555c443554e2de76aea95    154  4.110257  230.762040\n150  3e2220c3196b7bb28c73510045e8cd4c    157  4.418502  219.948155\n152  b55b426d58515de0a65b2122a67593fd    159  3.070525  222.008370\n162  46f0af0cb29ac748355144461ee7a1df    169  2.051910  295.345111\n163  a0c4b1cdc3496504a5c6bd1d70a8c092    170  5.259420  161.238829\n164  e37de8ebd1114b71d2ecd7a348976c58    171  5.710443  103.116303\n169  90d68b2da155e92f562c9cff776f4ef8    176  4.333461  253.973604\n175  4bc7804c46e34f9ac4707015336e243a    182  5.396437  148.720395\n181  e5eec8bb2aad7597d00e6984029f41bd    188  3.505304  300.394792\n192  e6c37f394a810b5a06b736f748be36ee    199  3.367418  286.052677\n193  bcddc23e127b38859d98f371d3817273    200  6.267876    0.000000\n194  b2b4bac823b9d1fe9e4175f3290355db    201  1.068780  188.202586\n195  ea2c004941531f7b272e8ef6c0657a6f    202  0.893959   24.614561\n196  8c8516684c9af8b63ffa07c77ce82e74    203  4.983306  357.275378\n197  ef29b930e8c1b75a0a6403308d3a596f    204  2.762850  108.228775\n198  aba3bc392c775a723e2cede2983ffbc7    205  6.090296  245.275291\n199  f07b77796509d801a876fb81998409b3    206  6.359457  379.519839\n200  2fca1094fc83a98189cb4f58d0d7e241    207  2.041856   25.297648\n201  0d4fa8a2c3dc15316c943f4ffb103c09    208  0.144952  116.269223\n202  f07218efd73c8eeefd62707e7fce3cdf    209  1.412553   80.819055\n203  bb1196db95c60b1180fcb2d24c8970eb    210  0.000000  219.366772"
     },
     "execution_count": 7,
     "metadata": {},
     "output_type": "execute_result"
    }
   ],
   "source": [
    "workflow.apply(target, \"Label\")"
   ]
  },
  {
   "cell_type": "code",
   "execution_count": null,
   "metadata": {},
   "outputs": [],
   "source": []
  }
 ],
 "metadata": {
  "kernelspec": {
   "display_name": "Python 3.8.3 64-bit",
   "metadata": {
    "interpreter": {
     "hash": "bed9a561fb83291a278b30e3f88fdd47e5ca4c4a3db87eebfaf40c1dec639dff"
    }
   },
   "name": "python3"
  },
  "language_info": {
   "codemirror_mode": {
    "name": "ipython",
    "version": 3
   },
   "file_extension": ".py",
   "mimetype": "text/x-python",
   "name": "python",
   "nbconvert_exporter": "python",
   "pygments_lexer": "ipython3",
   "version": "3.8.3"
  },
  "orig_nbformat": 2
 },
 "nbformat": 4,
 "nbformat_minor": 2
}